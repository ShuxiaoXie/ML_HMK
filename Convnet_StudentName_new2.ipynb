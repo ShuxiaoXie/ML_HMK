{
 "cells": [
  {
   "cell_type": "markdown",
   "metadata": {
    "button": false,
    "new_sheet": false,
    "run_control": {
     "read_only": false
    }
   },
   "source": [
    "# Convolutional Neural Networks"
   ]
  },
  {
   "cell_type": "markdown",
   "metadata": {
    "button": false,
    "new_sheet": false,
    "run_control": {
     "read_only": false
    }
   },
   "source": [
    "<img src=\"mnist_sample.png\", height=200, width=200>"
   ]
  },
  {
   "cell_type": "markdown",
   "metadata": {
    "button": false,
    "new_sheet": false,
    "run_control": {
     "read_only": false
    }
   },
   "source": [
    "## Task 1: Load the Data\n",
    "\n",
    "Load the entire MNIST set from Tensorflow's dataset."
   ]
  },
  {
   "cell_type": "code",
   "execution_count": 1,
   "metadata": {
    "button": false,
    "new_sheet": false,
    "run_control": {
     "read_only": false
    }
   },
   "outputs": [
    {
     "name": "stdout",
     "output_type": "stream",
     "text": [
      "Extracting MNIST_data/train-images-idx3-ubyte.gz\n",
      "Extracting MNIST_data/train-labels-idx1-ubyte.gz\n",
      "Extracting MNIST_data/t10k-images-idx3-ubyte.gz\n",
      "Extracting MNIST_data/t10k-labels-idx1-ubyte.gz\n"
     ]
    }
   ],
   "source": [
    "import time\n",
    "import tensorflow as tf\n",
    "from tensorflow.examples.tutorials.mnist import input_data\n",
    "mnist = input_data.read_data_sets(\"MNIST_data/\", one_hot=True)\n",
    "\n",
    "# set batchSz batch gradient descent\n",
    "batchSz = 50\n",
    "\n",
    "# set hiddenSz for the hidden layer\n",
    "hiddenSz = 1000 \n",
    "\n",
    "# set learning rate \n",
    "l = 0.0004 "
   ]
  },
  {
   "cell_type": "markdown",
   "metadata": {
    "button": false,
    "new_sheet": false,
    "run_control": {
     "read_only": false
    }
   },
   "source": [
    "# Placeholders:"
   ]
  },
  {
   "cell_type": "code",
   "execution_count": 2,
   "metadata": {
    "button": false,
    "collapsed": true,
    "new_sheet": false,
    "run_control": {
     "read_only": false
    }
   },
   "outputs": [],
   "source": [
    "# Images and their corresponding labels\n",
    "img = tf.placeholder(tf.float32, [None,28,28,1])\n",
    "ans = tf.placeholder(tf.float32, [None, 10])"
   ]
  },
  {
   "cell_type": "markdown",
   "metadata": {
    "button": false,
    "new_sheet": false,
    "run_control": {
     "read_only": false
    }
   },
   "source": [
    "## Architecture\n",
    "* First convolution layer with 5x5 filter with 1 in channel and 32 in depth and SAME padding\n",
    "* ReLU\n",
    "* Maxpooling layer with 2x2 filter and SAME padding\n",
    "* Second Convolution layer with 5x5 filter 32 in channel and 64 in depth\n",
    "* ReLU\n",
    "* Maxpooling layer with 2x2 filter and SAME padding\n",
    "* Feed-forward layer from 3136 (you should have 3136 parameters at this point) to 1000\n",
    "* ReLU\n",
    "* Feed-forward layer from 1000 to 10\n",
    "* Softmax/Sigmoid\n"
   ]
  },
  {
   "cell_type": "code",
   "execution_count": 4,
   "metadata": {
    "button": false,
    "new_sheet": false,
    "run_control": {
     "read_only": false
    }
   },
   "outputs": [],
   "source": [
    "# First Convolution layer with 5x5 filters, 1 in channel, and 32 depth \n",
    "conv1 = tf.layers.conv2d(inputs=img, \n",
    "                         filters=32, \n",
    "                         kernel_size=[5, 5], \n",
    "                         padding=\"same\", \n",
    "                         activation=tf.nn.relu)\n",
    "\n",
    "# Maxpooling layer with 2x2 filter and SAME padding\n",
    "pool1 = tf.layers.max_pooling2d(inputs=conv1, pool_size=[2, 2], strides=2, padding=\"same\")\n",
    "\n",
    "# Second convolution layer with 5x5 filters, 32 in channel, and 64 in depth\n",
    "conv2 = tf.layers.conv2d(inputs=pool1, \n",
    "                         filters=64, \n",
    "                         kernel_size=[5, 5], \n",
    "                         padding=\"same\", \n",
    "                         activation=tf.nn.relu)\n",
    "\n",
    "# Maxpooling layer with 2x2 filter and SAME padding\n",
    "pool2 = tf.layers.max_pooling2d(inputs=conv2, pool_size=[2, 2], strides=2, padding=\"same\")\n",
    "\n",
    "#Feed-forward layer from 3136 (you should have 3136 parameters at this point) to 1000\n",
    "pool2_flat = tf.reshape(pool2, [-1, 64*7*7])\n",
    "\n",
    "# first hidden layer\n",
    "\n",
    "fc1 = tf.layers.dense(pool2_flat, hiddenSz)\n",
    "\n",
    "# the final layer\n",
    "\n",
    "y_conv = tf.layers.dense(fc1, 10)\n",
    "y_conv_sm = tf.nn.softmax(y_conv)"
   ]
  },
  {
   "cell_type": "markdown",
   "metadata": {
    "button": false,
    "new_sheet": false,
    "run_control": {
     "read_only": false
    }
   },
   "source": [
    "## Forward and Backward Pass\n",
    "Write the forward and backward pass in tensorflow\n",
    "* Use cross entropy loss\n",
    "* Use AdamOptimizer"
   ]
  },
  {
   "cell_type": "code",
   "execution_count": 5,
   "metadata": {
    "button": false,
    "collapsed": true,
    "new_sheet": false,
    "run_control": {
     "read_only": false
    }
   },
   "outputs": [],
   "source": [
    "# Forward passs -- compute the cross entropy and output probabilities\n",
    "cross_entropy = tf.nn.softmax_cross_entropy_with_logits(\n",
    "    labels = ans,\n",
    "    logits = y_conv, # revise\n",
    "    )\n",
    "\n",
    "# Backward pass\n",
    "# Note: you don't need to compute the gradient \n",
    "# Simply use the tf.train.AdamOptimizer() function\n",
    "train = tf.train.AdamOptimizer(l).minimize(cross_entropy)\n",
    "\n",
    "\n",
    "\n",
    "# Compute Accuracy\n",
    "correct_prediction = tf.equal(tf.argmax(y_conv_sm, 1), tf.argmax(ans, 1))\n",
    "accuracy = tf.reduce_mean(tf.cast(correct_prediction, tf.float32))\n",
    "\n",
    "sess = tf.Session()\n",
    "sess.run(tf.global_variables_initializer())\n"
   ]
  },
  {
   "cell_type": "code",
   "execution_count": null,
   "metadata": {
    "collapsed": true
   },
   "outputs": [],
   "source": []
  },
  {
   "cell_type": "markdown",
   "metadata": {
    "button": false,
    "new_sheet": false,
    "run_control": {
     "read_only": false
    }
   },
   "source": [
    "## Training the Network and Testing our Results\n",
    "Train on 2000 batches"
   ]
  },
  {
   "cell_type": "code",
   "execution_count": null,
   "metadata": {
    "button": false,
    "new_sheet": false,
    "run_control": {
     "read_only": false
    }
   },
   "outputs": [
    {
     "name": "stdout",
     "output_type": "stream",
     "text": [
      "Training on 2000 batches:\n",
      "batches 1 - 100, duration ~ 34.8869 sec\n",
      "batches 101 - 200, duration ~ 33.1564 sec\n"
     ]
    }
   ],
   "source": [
    "start = time.time()\n",
    "\n",
    "print(\"Training on 2000 batches:\") \n",
    "step = 100\n",
    "for i in range(2000):\n",
    "    if i % step == 0: sstart = time.time()  \n",
    "    imgs, anss = mnist.train.next_batch(batchSz)\n",
    "    sess.run(train, feed_dict={img: imgs.reshape([batchSz,28,28,1]), ans: anss})\n",
    "    if (i+1) % step == 0:\n",
    "        sstop = time.time()\n",
    "        print('batches %s - %d, duration ~ %g sec' % (i-(step-2), i+1, (sstop - sstart)))\n",
    "\n",
    "# Batch size for evaluation performance\n",
    "batchSz = 100\n",
    "        \n",
    "# Accuracy for train data\n",
    "trainAcc = 0\n",
    "batchNum =  int(mnist.train.num_examples/batchSz)\n",
    "for i in range(batchNum):\n",
    "    imgs, anss= mnist.train.next_batch(batchSz)\n",
    "    trainAcc += sess.run(accuracy, feed_dict={img: imgs.reshape([batchSz,28,28,1]), ans: anss})\n",
    "print (\"Train Accuracy: %r\" % (trainAcc/batchNum))\n",
    "\n",
    "# Accuracy for test data\n",
    "testAcc = 0\n",
    "batchNum = int(mnist.test.num_examples/batchSz)\n",
    "for i in range(batchNum):\n",
    "    imgs, anss= mnist.test.next_batch(batchSz)\n",
    "    testAcc += sess.run(accuracy, feed_dict={img: imgs.reshape([batchSz,28,28,1]), ans: anss})\n",
    "print (\"Test Accuracy: %r\" % (testAcc/batchNum))\n",
    "\n",
    "end = time.time()\n",
    "print(\"Runtime: %g\" % (end - start))"
   ]
  },
  {
   "cell_type": "code",
   "execution_count": null,
   "metadata": {
    "collapsed": true
   },
   "outputs": [],
   "source": []
  },
  {
   "cell_type": "markdown",
   "metadata": {
    "button": false,
    "new_sheet": false,
    "run_control": {
     "read_only": false
    }
   },
   "source": []
  },
  {
   "cell_type": "markdown",
   "metadata": {
    "button": false,
    "new_sheet": false,
    "run_control": {
     "read_only": false
    }
   },
   "source": [
    " "
   ]
  }
 ],
 "metadata": {
  "kernelspec": {
   "display_name": "Python 3",
   "language": "python",
   "name": "python3"
  },
  "language_info": {
   "codemirror_mode": {
    "name": "ipython",
    "version": 3
   },
   "file_extension": ".py",
   "mimetype": "text/x-python",
   "name": "python",
   "nbconvert_exporter": "python",
   "pygments_lexer": "ipython3",
   "version": "3.6.3"
  }
 },
 "nbformat": 4,
 "nbformat_minor": 2
}
